{
 "cells": [
  {
   "cell_type": "code",
   "execution_count": 16,
   "id": "b81ec62b-ae5c-4d33-83a6-670e519f5fd1",
   "metadata": {},
   "outputs": [
    {
     "name": "stdout",
     "output_type": "stream",
     "text": [
      "\n",
      "==============================\n",
      " Welcome to the ATM Machine \n",
      "==============================\n",
      "1. Access Account\n",
      "2. Quit\n"
     ]
    },
    {
     "name": "stdin",
     "output_type": "stream",
     "text": [
      "Choose an option:  1\n"
     ]
    },
    {
     "name": "stdout",
     "output_type": "stream",
     "text": [
      "\n",
      "--- Account Access ---\n"
     ]
    },
    {
     "name": "stdin",
     "output_type": "stream",
     "text": [
      "Enter your User ID:  SHARATH\n",
      "Enter your PIN:  1188\n"
     ]
    },
    {
     "name": "stdout",
     "output_type": "stream",
     "text": [
      "Access Granted!\n",
      "\n",
      "--- Account Menu ---\n",
      "1. View Transaction History\n",
      "2. Withdraw Cash\n",
      "3. Deposit Cash\n",
      "4. Transfer Funds\n",
      "5. Change PIN\n",
      "6. Quit\n"
     ]
    },
    {
     "name": "stdin",
     "output_type": "stream",
     "text": [
      "Choose an operation:  1\n"
     ]
    },
    {
     "name": "stdout",
     "output_type": "stream",
     "text": [
      "No transactions available\n",
      "\n",
      "--- Account Menu ---\n",
      "1. View Transaction History\n",
      "2. Withdraw Cash\n",
      "3. Deposit Cash\n",
      "4. Transfer Funds\n",
      "5. Change PIN\n",
      "6. Quit\n"
     ]
    },
    {
     "name": "stdin",
     "output_type": "stream",
     "text": [
      "Choose an operation:  2\n",
      "Enter amount to withdraw:  100\n"
     ]
    },
    {
     "name": "stdout",
     "output_type": "stream",
     "text": [
      "Withdrawal successful. New balance: $900.00\n",
      "\n",
      "--- Account Menu ---\n",
      "1. View Transaction History\n",
      "2. Withdraw Cash\n",
      "3. Deposit Cash\n",
      "4. Transfer Funds\n",
      "5. Change PIN\n",
      "6. Quit\n"
     ]
    },
    {
     "name": "stdin",
     "output_type": "stream",
     "text": [
      "Choose an operation:  1\n"
     ]
    },
    {
     "name": "stdout",
     "output_type": "stream",
     "text": [
      "Transaction History:\n",
      "Withdraw: $100.00\n",
      "\n",
      "--- Account Menu ---\n",
      "1. View Transaction History\n",
      "2. Withdraw Cash\n",
      "3. Deposit Cash\n",
      "4. Transfer Funds\n",
      "5. Change PIN\n",
      "6. Quit\n"
     ]
    },
    {
     "name": "stdin",
     "output_type": "stream",
     "text": [
      "Choose an operation:  4\n",
      "Enter target User ID:  atmuser1\n",
      "Enter amount to transfer:  100\n"
     ]
    },
    {
     "name": "stdout",
     "output_type": "stream",
     "text": [
      "Transfer successful. New balance: $800.00\n",
      "\n",
      "--- Account Menu ---\n",
      "1. View Transaction History\n",
      "2. Withdraw Cash\n",
      "3. Deposit Cash\n",
      "4. Transfer Funds\n",
      "5. Change PIN\n",
      "6. Quit\n"
     ]
    },
    {
     "name": "stdin",
     "output_type": "stream",
     "text": [
      "Choose an operation:  5\n",
      "Enter your current PIN:  1199\n",
      "Enter your new PIN:  1188\n"
     ]
    },
    {
     "name": "stdout",
     "output_type": "stream",
     "text": [
      "Incorrect current PIN.\n",
      "\n",
      "--- Account Menu ---\n",
      "1. View Transaction History\n",
      "2. Withdraw Cash\n",
      "3. Deposit Cash\n",
      "4. Transfer Funds\n",
      "5. Change PIN\n",
      "6. Quit\n"
     ]
    },
    {
     "name": "stdin",
     "output_type": "stream",
     "text": [
      "Choose an operation:  1\n"
     ]
    },
    {
     "name": "stdout",
     "output_type": "stream",
     "text": [
      "Transaction History:\n",
      "Withdraw: $100.00\n",
      "Withdraw: $100.00\n",
      "Transfer: $100.00\n",
      "\n",
      "--- Account Menu ---\n",
      "1. View Transaction History\n",
      "2. Withdraw Cash\n",
      "3. Deposit Cash\n",
      "4. Transfer Funds\n",
      "5. Change PIN\n",
      "6. Quit\n"
     ]
    },
    {
     "name": "stdin",
     "output_type": "stream",
     "text": [
      "Choose an operation:  5\n",
      "Enter your current PIN:  1188\n",
      "Enter your new PIN:  1199\n"
     ]
    },
    {
     "name": "stdout",
     "output_type": "stream",
     "text": [
      "PIN changed successfully.\n",
      "\n",
      "--- Account Menu ---\n",
      "1. View Transaction History\n",
      "2. Withdraw Cash\n",
      "3. Deposit Cash\n",
      "4. Transfer Funds\n",
      "5. Change PIN\n",
      "6. Quit\n"
     ]
    },
    {
     "name": "stdin",
     "output_type": "stream",
     "text": [
      "Choose an operation:  6\n"
     ]
    },
    {
     "name": "stdout",
     "output_type": "stream",
     "text": [
      "Returning to main menu...\n",
      "\n",
      "==============================\n",
      " Welcome to the ATM Machine \n",
      "==============================\n",
      "1. Access Account\n",
      "2. Quit\n"
     ]
    },
    {
     "name": "stdin",
     "output_type": "stream",
     "text": [
      "Choose an option:  2\n"
     ]
    },
    {
     "name": "stdout",
     "output_type": "stream",
     "text": [
      "Thank you for using our ATM. Goodbye!\n"
     ]
    }
   ],
   "source": [
    "# Created by SHARATH\n",
    "# This Python program simulates an ATM machine with basic functionalities such as\n",
    "# account balance inquiry, cash withdrawal, cash deposit, PIN change, and viewing transaction history.\n",
    "\n",
    "import time\n",
    "\n",
    "class Account:\n",
    "    # Constructor for initializing an Account object with a user ID, PIN, and an optional balance.\n",
    "    def __init__(self, user_id, pin, balance=0):\n",
    "        \"\"\"\n",
    "        Initializes a new Account instance.\n",
    "        :param user_id: The ID of the user.\n",
    "        :param pin: The PIN for the account.\n",
    "        :param balance: The starting balance of the account, default is 0.\n",
    "        \"\"\"\n",
    "        self.user_id = user_id\n",
    "        self.pin = pin\n",
    "        self.balance = balance\n",
    "        self.transactions = []  # List to store transaction history.\n",
    "\n",
    "    # Method to check if the provided PIN matches the account's PIN.\n",
    "    def check_pin(self, pin):\n",
    "        \"\"\"\n",
    "        Verifies if the provided PIN matches the account's PIN.\n",
    "        :param pin: The PIN to be checked.\n",
    "        :return: True if the PIN matches, else False.\n",
    "        \"\"\"\n",
    "        return self.pin == pin\n",
    "\n",
    "    # Method to allow the user to change their PIN.\n",
    "    def change_pin(self, old_pin, new_pin):\n",
    "        \"\"\"\n",
    "        Allows the user to change their PIN.\n",
    "        :param old_pin: The current PIN of the account.\n",
    "        :param new_pin: The new PIN to be set.\n",
    "        :return: A message indicating whether the PIN change was successful or not.\n",
    "        \"\"\"\n",
    "        if self.check_pin(old_pin):\n",
    "            self.pin = new_pin\n",
    "            return \"PIN changed successfully.\"\n",
    "        else:\n",
    "            return \"Incorrect current PIN.\"\n",
    "\n",
    "    # Method to deposit a specified amount into the account.\n",
    "    def deposit(self, amount):\n",
    "        \"\"\"\n",
    "        Deposits a specified amount into the account.\n",
    "        :param amount: The amount to deposit.\n",
    "        :return: A confirmation message with the new balance.\n",
    "        \"\"\"\n",
    "        self.balance += amount\n",
    "        self.transactions.append(('Deposit', amount))  # Logs the deposit transaction.\n",
    "        return f\"Deposit successful. New balance: ${self.balance:.2f}\"\n",
    "\n",
    "    # Method to withdraw a specified amount from the account if sufficient balance is available.\n",
    "    def withdraw(self, amount):\n",
    "        \"\"\"\n",
    "        Withdraws a specified amount from the account if sufficient balance is available.\n",
    "        :param amount: The amount to withdraw.\n",
    "        :return: A message indicating the success or failure of the withdrawal and the new balance.\n",
    "        \"\"\"\n",
    "        if amount > self.balance:\n",
    "            return 'Insufficient balance'\n",
    "        else:\n",
    "            self.balance -= amount\n",
    "            self.transactions.append(('Withdraw', amount))  # Logs the withdrawal transaction.\n",
    "            return f\"Withdrawal successful. New balance: ${self.balance:.2f}\"\n",
    "\n",
    "    # Method to return the transaction history of the account.\n",
    "    def get_transaction_history(self):\n",
    "        \"\"\"\n",
    "        Returns the transaction history of the account.\n",
    "        :return: A formatted string of the transaction history or a message if no transactions are available.\n",
    "        \"\"\"\n",
    "        if self.transactions:\n",
    "            history = \"\\n\".join([f\"{t[0]}: ${t[1]:.2f}\" for t in self.transactions])\n",
    "            return f\"Transaction History:\\n{history}\"\n",
    "        else:\n",
    "            return 'No transactions available'\n",
    "\n",
    "    # Method to transfer a specified amount to another account if sufficient balance is available.\n",
    "    def transfer(self, target_account, amount):\n",
    "        \"\"\"\n",
    "        Transfers a specified amount to another account if sufficient balance is available.\n",
    "        :param target_account: The account to which the money is to be transferred.\n",
    "        :param amount: The amount to transfer.\n",
    "        :return: A message indicating the success or failure of the transfer and the new balance.\n",
    "        \"\"\"\n",
    "        if amount > self.balance:\n",
    "            return 'Insufficient balance'\n",
    "        else:\n",
    "            self.withdraw(amount)\n",
    "            target_account.deposit(amount)\n",
    "            self.transactions.append(('Transfer', amount))  # Logs the transfer transaction.\n",
    "            return f\"Transfer successful. New balance: ${self.balance:.2f}\"\n",
    "\n",
    "\n",
    "class ATM:\n",
    "    # Constructor for initializing an ATM instance with an empty dictionary of accounts.\n",
    "    def __init__(self):\n",
    "        \"\"\"\n",
    "        Initializes a new ATM instance.\n",
    "        \"\"\"\n",
    "        self.accounts = {}  # Dictionary to store all accounts, keyed by user_id.\n",
    "\n",
    "    # Method to create a new account and add it to the ATM's account dictionary.\n",
    "    def create_account(self, user_id, pin, balance=0):\n",
    "        \"\"\"\n",
    "        Creates a new account and adds it to the ATM's account dictionary.\n",
    "        :param user_id: The ID for the new account.\n",
    "        :param pin: The PIN for the new account.\n",
    "        :param balance: The initial balance for the new account.\n",
    "        \"\"\"\n",
    "        self.accounts[user_id] = Account(user_id, pin, balance)\n",
    "\n",
    "    # Method to prompt the user for their user ID and PIN, and return the corresponding account if credentials are valid.\n",
    "    def access_account(self):\n",
    "        \"\"\"\n",
    "        Prompts the user for their user ID and PIN, and returns the corresponding account if credentials are valid.\n",
    "        :return: The account object if access is granted, else None.\n",
    "        \"\"\"\n",
    "        print(\"\\n--- Account Access ---\")\n",
    "        user_id = input(\"Enter your User ID: \").strip()\n",
    "        pin = input(\"Enter your PIN: \").strip()\n",
    "\n",
    "        if user_id in self.accounts and self.accounts[user_id].check_pin(pin):\n",
    "            print(\"Access Granted!\")\n",
    "            return self.accounts[user_id]\n",
    "        else:\n",
    "            print(\"Invalid User ID or PIN. Please try again.\")\n",
    "            return None\n",
    "\n",
    "    # The main loop of the ATM simulation that handles user choices and directs them to appropriate account operations.\n",
    "    def run(self):\n",
    "        \"\"\"\n",
    "        The main loop of the ATM simulation. Handles user choices and directs to appropriate account operations.\n",
    "        \"\"\"\n",
    "        while True:\n",
    "            print(\"\\n\" + \"=\" * 30)\n",
    "            print(\" Welcome to the ATM Machine \")\n",
    "            print(\"=\" * 30)\n",
    "            print(\"1. Access Account\")\n",
    "            print(\"2. Quit\")\n",
    "            choice = input(\"Choose an option: \").strip()\n",
    "\n",
    "            if choice == '1':\n",
    "                account = self.access_account()\n",
    "                if account:\n",
    "                    while True:\n",
    "                        print(\"\\n--- Account Menu ---\")\n",
    "                        print(\"1. View Transaction History\")\n",
    "                        print(\"2. Withdraw Cash\")\n",
    "                        print(\"3. Deposit Cash\")\n",
    "                        print(\"4. Transfer Funds\")\n",
    "                        print(\"5. Change PIN\")\n",
    "                        print(\"6. Quit\")\n",
    "                        operation = input(\"Choose an operation: \").strip()\n",
    "\n",
    "                        if operation == '1':\n",
    "                            print(account.get_transaction_history())\n",
    "                        elif operation == '2':\n",
    "                            amount = self.get_amount(\"withdraw\")\n",
    "                            print(account.withdraw(amount))\n",
    "                        elif operation == '3':\n",
    "                            amount = self.get_amount(\"deposit\")\n",
    "                            print(account.deposit(amount))\n",
    "                        elif operation == '4':\n",
    "                            target_id = input(\"Enter target User ID: \").strip()\n",
    "                            if target_id in self.accounts:\n",
    "                                amount = self.get_amount(\"transfer\")\n",
    "                                print(account.transfer(self.accounts[target_id], amount))\n",
    "                            else:\n",
    "                                print(\"Target account not found.\")\n",
    "                        elif operation == '5':\n",
    "                            old_pin = input(\"Enter your current PIN: \").strip()\n",
    "                            new_pin = input(\"Enter your new PIN: \").strip()\n",
    "                            print(account.change_pin(old_pin, new_pin))\n",
    "                        elif operation == '6':\n",
    "                            print(\"Returning to main menu...\")\n",
    "                            time.sleep(1)\n",
    "                            break\n",
    "                        else:\n",
    "                            print(\"Invalid operation. Please choose a valid option.\")\n",
    "                else:\n",
    "                    print(\"Returning to main menu...\")\n",
    "                    time.sleep(1)\n",
    "            elif choice == '2':\n",
    "                print(\"Thank you for using our ATM. Goodbye!\")\n",
    "                break\n",
    "            else:\n",
    "                print(\"Invalid choice. Please try again.\")\n",
    "    \n",
    "    # Static method to prompt the user to input a valid amount for the chosen action (withdraw, deposit, transfer).\n",
    "    @staticmethod\n",
    "    def get_amount(action):\n",
    "        \"\"\"\n",
    "        Prompts the user to input a valid amount for the chosen action (withdraw, deposit, transfer).\n",
    "        :param action: The action being performed (withdraw, deposit, transfer).\n",
    "        :return: The valid amount entered by the user.\n",
    "        \"\"\"\n",
    "        while True:\n",
    "            try:\n",
    "                amount = float(input(f\"Enter amount to {action}: \").strip())\n",
    "                if amount > 0:\n",
    "                    return amount\n",
    "                else:\n",
    "                    print(\"Please enter a positive amount.\")\n",
    "            except ValueError:\n",
    "                print(\"Invalid input. Please enter a valid number.\")\n",
    "\n",
    "# Create an ATM instance\n",
    "atm = ATM()\n",
    "\n",
    "# Create some sample accounts for testing purposes\n",
    "atm.create_account('SHARATH', '1188', 1000)\n",
    "atm.create_account('atmuser1', '1111', 1500)\n",
    "atm.create_account('atmuser2', '1112', 500)\n",
    "atm.create_account('atmuser3', '1113', 2000)\n",
    "\n",
    "# Run the ATM interface\n",
    "atm.run()\n"
   ]
  },
  {
   "cell_type": "code",
   "execution_count": null,
   "id": "57d60b0f-7182-48e9-a9f3-784ca8ec75f5",
   "metadata": {},
   "outputs": [],
   "source": []
  }
 ],
 "metadata": {
  "kernelspec": {
   "display_name": "Python 3 (ipykernel)",
   "language": "python",
   "name": "python3"
  },
  "language_info": {
   "codemirror_mode": {
    "name": "ipython",
    "version": 3
   },
   "file_extension": ".py",
   "mimetype": "text/x-python",
   "name": "python",
   "nbconvert_exporter": "python",
   "pygments_lexer": "ipython3",
   "version": "3.11.7"
  }
 },
 "nbformat": 4,
 "nbformat_minor": 5
}
